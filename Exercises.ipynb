{
 "cells": [
  {
   "cell_type": "code",
   "execution_count": 45,
   "id": "2bc2c07e",
   "metadata": {},
   "outputs": [],
   "source": [
    "import math\n",
    "from scipy import optimize\n",
    "import numpy as np\n",
    "import matplotlib.pyplot as plt\n",
    "from scipy.optimize import minimize"
   ]
  },
  {
   "cell_type": "markdown",
   "id": "071e35b5",
   "metadata": {},
   "source": [
    "### Hooghoudt equation combined with Van der Molen and Wesseling equation.\n"
   ]
  },
  {
   "cell_type": "markdown",
   "id": "140e64a7",
   "metadata": {},
   "source": [
    "$R = \\frac{8.K_b.D_e.h}{L^2}+\\frac{4.K_a.h^2}{L^2}$\n",
    "\n",
    "Equivalent depth:\n",
    "$D_e = \\frac{\\pi.L}{8(ln(\\frac{L}{\\pi.r_e})+F(x))}$ with $x = \\frac{2.\\pi.D}{L}$\n",
    "\n",
    "\n",
    "if x < 0.5 & x > 10$^{-6}$\n",
    "\n",
    "\n",
    "$F(x)=\\frac{\\pi^2}{4x}+ln(\\frac{x}{2\\pi})$\n",
    "\n",
    "if x >= 0.5\n",
    "\n",
    "$F(x) = \\sum_{n=1}^{\\infty}\\frac{4exp(-2nx)}{n[1-exp(-2nx)]}$, $n = 1, 3 , 5 ,...$"
   ]
  },
  {
   "cell_type": "code",
   "execution_count": 113,
   "id": "6be7dce9",
   "metadata": {},
   "outputs": [],
   "source": [
    "def Hooghoudt(L_estim, D, h, r_e, R, Ka, Kb):\n",
    "    \n",
    "    # Auxiliary variable x (Van der Molen and Wesseling, 1991)\n",
    "    x = (2*math.pi*D)/L_estim  \n",
    "    #print(x)\n",
    "    #print('Auxiliary variable x is ', x)\n",
    "    \n",
    "    # Calculate equivalent depth\n",
    "    D_e = (math.pi*L_estim) / ( 8 * (math.log( (L_estim)/(math.pi*r_e) ) + Vandermolen(x) ) ) \n",
    "    #print('D_e is', D_e)\n",
    "    \n",
    "    # Calculate L with Hooghoudt equation\n",
    "    L_calc = math.sqrt( ((8*Kb*D_e*h) + (4*Ka*(h**2))) / R)\n",
    "    #print('Calculated drain spacing is', L_calc )\n",
    "    #print(L_estim,L_calc,D,h,r_e,x)\n",
    "    \n",
    "    return D_e, L_calc"
   ]
  },
  {
   "cell_type": "code",
   "execution_count": 114,
   "id": "83a200d8",
   "metadata": {},
   "outputs": [],
   "source": [
    "def Vandermolen(x):\n",
    "    #Fx = None   # assign a default value of None\n",
    "    if x > 0.5:\n",
    "        Fx = 0\n",
    "        for n in range(1, 1001, 2):\n",
    "            Fx += 4 * math.exp(-2 * n * x) / (n * (1 - math.exp(-2 * n * x)))\n",
    "#         print('Series')\n",
    "        #d = (math.pi * L) / (4 * Fx + math.log(x / (2 * math.pi)))\n",
    "    else:\n",
    "        Fx = (((math.pi)**2)/(4*x)) + math.log(x/(2*math.pi)) \n",
    "#         print('Analytic')\n",
    "            #d = (math.pi * L) / (4 * Fx + math.log(x / (2 * math.pi)))\n",
    "    return Fx"
   ]
  },
  {
   "cell_type": "markdown",
   "id": "7558fb05",
   "metadata": {},
   "source": [
    "## Case 1"
   ]
  },
  {
   "cell_type": "code",
   "execution_count": 115,
   "id": "d540f5b8",
   "metadata": {},
   "outputs": [
    {
     "data": {
      "text/plain": [
       "4.8"
      ]
     },
     "execution_count": 115,
     "metadata": {},
     "output_type": "execute_result"
    }
   ],
   "source": [
    "H = 6.8\n",
    "Ka = 0.14 #m/d\n",
    "Kb = Ka\n",
    "R = 0.001 #m/d\n",
    "h = 1 #m\n",
    "D = H-(h+1)\n",
    "r_e = 0.10 #m\n",
    "D"
   ]
  },
  {
   "cell_type": "markdown",
   "id": "8801258f",
   "metadata": {},
   "source": [
    "## automatic optimization"
   ]
  },
  {
   "cell_type": "code",
   "execution_count": 116,
   "id": "3dd8d2a5",
   "metadata": {},
   "outputs": [],
   "source": [
    "def obj_fun(LL,D, h, r_e, R, Ka, Kb):\n",
    "    # Calculate Hooghoudt equation and Vandemolen\n",
    "    D_e, L_calc = Hooghoudt(LL, D, h, r_e, R, Ka, Kb)\n",
    "    # Compare estimated and calculated L and minimize difference\n",
    "    resid = (LL - L_calc)\n",
    "    OF = resid**2\n",
    "    \n",
    "    return OF"
   ]
  },
  {
   "cell_type": "code",
   "execution_count": 117,
   "id": "25763cd2",
   "metadata": {},
   "outputs": [
    {
     "name": "stdout",
     "output_type": "stream",
     "text": [
      "The optimal drain spacing is [63.99241879]\n"
     ]
    }
   ],
   "source": [
    "L_est=75\n",
    "res = optimize.minimize(obj_fun, x0=L_est, args=(D, h, r_e, R, Ka, Kb,))\n",
    "#print(h)\n",
    "print('The optimal drain spacing is',res.x)"
   ]
  },
  {
   "cell_type": "code",
   "execution_count": 118,
   "id": "ba0929a3",
   "metadata": {},
   "outputs": [
    {
     "data": {
      "text/plain": [
       "63.99241879495016"
      ]
     },
     "execution_count": 118,
     "metadata": {},
     "output_type": "execute_result"
    }
   ],
   "source": [
    "# Define bounds for L (optional)\n",
    "\n",
    "bounds = [(0, None)] # L can't be negative\n",
    "\n",
    "# Define function to be minimized\n",
    "fun = lambda L: obj_fun(L, D, h, r_e, R, Ka, Kb)\n",
    "\n",
    "# Minimize objective function\n",
    "res = minimize(fun, L_est, bounds=bounds)\n",
    "\n",
    "# Extract optimized L value\n",
    "L = res.x[0]\n",
    "L"
   ]
  },
  {
   "cell_type": "code",
   "execution_count": 169,
   "id": "a506ce07",
   "metadata": {},
   "outputs": [
    {
     "name": "stdout",
     "output_type": "stream",
     "text": [
      "The optimal drain spacing is 63.99309552253262\n"
     ]
    }
   ],
   "source": [
    "#if no package is available\n",
    "def optimal_drain_spacing(D, h, r_e, R, Ka, Kb):\n",
    "    L_est = 75\n",
    "    threshold = 0.01\n",
    "    \n",
    "    while True:\n",
    "        D_e, L_calc = Hooghoudt(L_est, D, h, r_e, R, Ka, Kb)\n",
    "        diff = abs(L_est - L_calc)\n",
    "        \n",
    "        if diff <= threshold:\n",
    "            break\n",
    "        \n",
    "        L_est = L_calc\n",
    "        \n",
    "    print('The optimal drain spacing is', L_calc)\n",
    "optimal_drain_spacing(D, h, r_e, R, Ka, Kb)\n",
    "    "
   ]
  },
  {
   "cell_type": "markdown",
   "id": "542f9b79",
   "metadata": {},
   "source": [
    "### manual optimization"
   ]
  },
  {
   "cell_type": "code",
   "execution_count": 173,
   "id": "0fe695cb",
   "metadata": {},
   "outputs": [
    {
     "name": "stdout",
     "output_type": "stream",
     "text": [
      "For L=63.99m, D_e is approximately 3.156m\n"
     ]
    },
    {
     "data": {
      "image/png": "[encoded data removed]",
      "text/plain": [
       "<Figure size 432x288 with 1 Axes>"
      ]
     },
     "metadata": {
      "needs_background": "light"
     },
     "output_type": "display_data"
    }
   ],
   "source": [
    "# Visualize relationship equivalent depth and drain spacing for this particular case\n",
    "D_es=[]\n",
    "L_calcs = []\n",
    "LLs = np.arange(1, 100,.2)\n",
    "L_est=30\n",
    "\n",
    "fig, ax = plt.subplots(figsize=(6, 4))\n",
    "for LL in LLs:\n",
    "    D_e, L_calc= Hooghoudt(LL, D, h, r_e, R, Ka, Kb)\n",
    "    L_calcs.append(L_calc)\n",
    "    D_es.append(D_e)\n",
    "    ax.plot(LL,D_e,'b.')\n",
    "    ax.set_xlabel('Drain spacing L (m)')\n",
    "    ax.set_ylabel('Equivalent depth $D_e$ (m)')\n",
    "    ax.grid('on')\n",
    "ax.set_xlim(0,100)\n",
    "# Find the index of the closest value of L to L_est\n",
    "index = np.argmin(np.abs(LLs - L_est))\n",
    "\n",
    "# Use linear interpolation to estimate D_e for L=L_est m\n",
    "L1, L2 = LLs[index], LLs[index+1]\n",
    "D_e1, D_e2 = D_es[index], D_es[index+1]\n",
    "D_e_est = D_e1 + (L_est - L1)*(D_e2 - D_e1)/(L2 - L1)\n",
    "\n",
    "# Print the result\n",
    "#print('For L='+str(L_est)+'m, D_e is approximately {:.3f}m'.format(D_e_est))    \n",
    "       \n",
    "# ax.plot(Lest, D_e_est, 'ro', markersize=10)\n",
    "# plt.show()\n",
    "D_e, L_calc= Hooghoudt(L_est, D, h, r_e, R, Ka, Kb)  \n",
    "#print(D_e, L_calc)\n",
    " \n",
    "ax.plot(L_est, D_e_est, 'bs', markersize=10)    \n",
    "# ax.plot(L_calc, D_e, 'rs', markersize=10)\n",
    "ax.text(L_est, D_e_est+.2, 'Initial Guess', ha='center', va='bottom', color='blue', fontsize=14)\n",
    "\n",
    "tolerance = .1\n",
    "diff = float('inf')\n",
    "\n",
    "while diff > tolerance:\n",
    "    index = np.argmin(np.abs(LLs - L_est))\n",
    "    \n",
    "    # Use linear interpolation to estimate D_e for L=L_est m\n",
    "    L1, L2 = LLs[index], LLs[index+1]\n",
    "    #print(L1,L2)\n",
    "    D_e1, D_e2 = D_es[index], D_es[index+1]\n",
    "    D_e_est = D_e1 + (L_est - L1)*(D_e2 - D_e1)/(L2 - L1)\n",
    "    \n",
    "    # Calculate D_e and L_calc for the current value of Lest\n",
    "    D_e, L_calc = Hooghoudt(L_est, D, h, r_e, R, Ka, Kb)\n",
    "    \n",
    "    # Calculate the difference between Lest and L_calc\n",
    "    diff = abs(L_calc - L_est)\n",
    "    #print(diff)\n",
    "    # Update Lest based on the sign of the difference\n",
    "    if L_calc > L_est:\n",
    "        L_est += .5\n",
    "    else:\n",
    "        L_est -= .5\n",
    "    #print(L_est)\n",
    "\n",
    "# Print the final result\n",
    "print('For L={:.2f}m, D_e is approximately {:.3f}m'.format(L_calc, D_e))\n",
    "ax.plot(L_calc, D_e, 'ro', markersize=10)\n",
    "ax.text(L_calc, D_e-.4, 'Solution', ha='center', va='bottom', color='red', fontsize=14)\n",
    "\n",
    "plt.show()\n"
   ]
  },
  {
   "cell_type": "markdown",
   "id": "3a222c0a",
   "metadata": {},
   "source": [
    "## case 2"
   ]
  },
  {
   "cell_type": "markdown",
   "id": "ab9c3a45",
   "metadata": {},
   "source": [
    "the same information as case 1 except a ditch with the water depth of 2.5m, bottom width of 0.5m and side slope of 1:1\n",
    "is replaced by drainage pipe. The design water depth in the ditch is 0.5m. What will be the drain spacing?"
   ]
  },
  {
   "cell_type": "code",
   "execution_count": 70,
   "id": "d2c74d5b",
   "metadata": {},
   "outputs": [
    {
     "data": {
      "text/plain": [
       "0.6093131011704485"
      ]
     },
     "execution_count": 70,
     "metadata": {},
     "output_type": "execute_result"
    }
   ],
   "source": [
    "# calculate the wet primeter \n",
    "u = 0.5+2*math.sqrt(0.5**2+0.5**2)\n",
    "r_e = u/math.pi\n",
    "r_e"
   ]
  },
  {
   "cell_type": "code",
   "execution_count": 71,
   "id": "880486db",
   "metadata": {},
   "outputs": [
    {
     "name": "stdout",
     "output_type": "stream",
     "text": [
      "The optimal drain spacing is [72.19373798]\n"
     ]
    }
   ],
   "source": [
    "\n",
    "res = optimize.minimize(obj_fun, x0=L_est, args=(D, h, r_e, R, Ka, Kb))\n",
    "#print(h)\n",
    "print('The optimal drain spacing is',res.x)"
   ]
  },
  {
   "cell_type": "markdown",
   "id": "f401cb61",
   "metadata": {},
   "source": [
    "## Case 3"
   ]
  },
  {
   "cell_type": "code",
   "execution_count": 73,
   "id": "e28cc4dd",
   "metadata": {},
   "outputs": [],
   "source": [
    "H = 6.8\n",
    "Ka = 0.06 #m/d\n",
    "Kb = 0.3  #m/d\n",
    "R = 0.001 #m/d\n",
    "h = 1 #m\n",
    "D = H-(h+1)\n",
    "r_e = 0.10 #m\n",
    "L_est=75"
   ]
  },
  {
   "cell_type": "code",
   "execution_count": 74,
   "id": "be195a97",
   "metadata": {},
   "outputs": [
    {
     "name": "stdout",
     "output_type": "stream",
     "text": [
      "The optimal drain spacing is [93.44266386]\n"
     ]
    }
   ],
   "source": [
    "res = optimize.minimize(obj_fun, x0=L_est, args=(D, h, r_e, R, Ka, Kb))\n",
    "#print(h)\n",
    "print('The optimal drain spacing is',res.x)"
   ]
  },
  {
   "cell_type": "markdown",
   "id": "c9da6913",
   "metadata": {},
   "source": [
    "#### Sensitivity of spacing to Ka, Kb etc"
   ]
  },
  {
   "cell_type": "code",
   "execution_count": 76,
   "id": "5b5a7ec2",
   "metadata": {},
   "outputs": [],
   "source": [
    "Kas = np.arange(0.01,1.3,.05)\n",
    "Ls = []\n",
    "for Kb in Kas:\n",
    "    res = optimize.minimize(obj_fun, x0=L_est, args=(D, h, r_e, R, Ka, Kb))\n",
    "    #print(h)\n",
    "    #print('The optimal drain spacing is',res.x)\n",
    "    Ls.append(res.x)"
   ]
  },
  {
   "cell_type": "markdown",
   "id": "f767341b",
   "metadata": {},
   "source": [
    "## Ernst Equations"
   ]
  },
  {
   "cell_type": "code",
   "execution_count": 208,
   "id": "b6eb8ff1",
   "metadata": {},
   "outputs": [],
   "source": [
    "def ernstb(Dv, Db, Dr, h, r_e, R, Ka, Kb):\n",
    "    u=math.pi * r_e\n",
    "    # Coefficients of the quadratic equation\n",
    "    a = 1 / (8 * Kb * Db)\n",
    "    b = math.log(Dr / u) / (math.pi * Kb)\n",
    "    c = (Dv / Ka) - (h / R)\n",
    "\n",
    "    # Calculate the roots of the quadratic equation\n",
    "    discriminant = b**2 - 4 * a * c\n",
    "    if discriminant < 0:\n",
    "        print(\"No real roots exist.\")\n",
    "    else:\n",
    "        root1 = (-b + math.sqrt(discriminant)) / (2 * a)\n",
    "        root2 = (-b - math.sqrt(discriminant)) / (2 * a)\n",
    "    \n",
    "    hv = R*(Dv / Ka)\n",
    "    hh = R*root1**2 /(8 * Kb * Db)\n",
    "    hr = R*root1*(math.log(Dr / u) / (math.pi * Kb))\n",
    "\n",
    "    \n",
    "    return root1, hv,hh,hr"
   ]
  },
  {
   "cell_type": "code",
   "execution_count": 198,
   "id": "5f307bd9",
   "metadata": {},
   "outputs": [],
   "source": [
    "def ernstt(alpha, Dr, Dv, Da, Db, h, r_e, R, Ka, Kb):\n",
    "    # Coefficients of the quadratic equation\n",
    "    a = 1 / (8*((Kb * Db)+(Ka * Da)))\n",
    "    #print(a,Dr)\n",
    "          \n",
    "    b = math.log((alpha * Dr) / (math.pi * r_e)) / (math.pi * Ka)\n",
    "\n",
    "    c = (Dv / Ka) - (h / R)\n",
    "    \n",
    "    # Calculate the roots of the quadratic equation\n",
    "    discriminant = b**2 - 4 * a * c\n",
    "    if discriminant < 0:\n",
    "        print(\"No real roots exist.\")\n",
    "    else:\n",
    "        root1 = (-b + math.sqrt(discriminant)) / (2 * a)\n",
    "        root2 = (-b - math.sqrt(discriminant)) / (2 * a)\n",
    "#         print(\"L1 =\", root1)\n",
    "#         print(\"L2 =\", root2)\n",
    "    #vertical, horizontal and radial components of h \n",
    "        \n",
    "    hv = R*(Dv / Ka)\n",
    "    hh = R*root1**2 / (8*((Kb * Db)+(Ka * Da)))\n",
    "    hr = R*root1*(math.log((alpha * Dr) / (math.pi * r_e)) / (math.pi * Ka))\n",
    "\n",
    "    \n",
    "    return root1, hv,hh,hr"
   ]
  },
  {
   "cell_type": "markdown",
   "id": "4da686c4",
   "metadata": {},
   "source": [
    "##### the Geometry factor (a) obtained by the relaxation method (after Van Beers, 1979)\n",
    "\n",
    "\n",
    "|       |  1  | 2   | 4   | 8   | 16  | 32  |\n",
    "|-------|-----|-----|-----|-----|-----|-----|\n",
    "| 1     | 2.0 | 3.0 | 5.0 | 9.0 | 15.0| 30.0|\n",
    "| 2     | 2.4 | 3.2 | 4.6 | 6.2 | 8.0 | 10.0|\n",
    "| 3     | 2.6 | 3.3 | 4.5 | 5.5 | 6.8 | 8.0 |\n",
    "| 5     | 2.8 | 3.5 | 4.4 | 4.8 | 5.6 | 6.2 |\n",
    "| 10    | 3.2 | 3.6 | 4.2 | 4.5 | 4.8 | 5.0 |\n",
    "| 20    | 3.6 | 3.7 | 4.0 | 4.2 | 4.4 | 4.6 |\n",
    "| 50    | 3.8 | 4.0 | 4.0 | 4.0 | 4.2 | 4.6 |\n"
   ]
  },
  {
   "cell_type": "code",
   "execution_count": 229,
   "id": "a162fdbb",
   "metadata": {},
   "outputs": [
    {
     "name": "stdout",
     "output_type": "stream",
     "text": [
      "For Db/Da=4, Kb/Ka=4, T=4.45\n"
     ]
    }
   ],
   "source": [
    "import numpy as np\n",
    "\n",
    "# Define the values from the table\n",
    "K_values = np.array([1, 2, 3, 5, 10, 20, 50])\n",
    "D_values = np.array([1, 2, 4, 8, 16, 32])\n",
    "T_values = np.array([    [2.0, 3.0, 5.0, 9.0, 15.0, 30.0],\n",
    "    [2.4, 3.2, 4.6, 6.2, 8.0, 10.0],\n",
    "    [2.6, 3.3, 4.5, 5.5, 6.8, 8.0],\n",
    "    [2.8, 3.5, 4.4, 4.8, 5.6, 6.2],\n",
    "    [3.2, 3.6, 4.2, 4.5, 4.8, 5.0],\n",
    "    [3.6, 3.7, 4.0, 4.2, 4.4, 4.6],\n",
    "    [3.8, 4.0, 4.0, 4.0, 4.2, 4.6]\n",
    "])\n",
    "\n",
    "def estimate_T(Db_Da, Kb_Ka):\n",
    "    # Find the indices of the two closest values of Db_Da and Kb_Ka in the table\n",
    "    Db_Da_index = np.argmin(np.abs(Db_Da - D_values))\n",
    "    Kb_Ka_index = np.argmin(np.abs(Kb_Ka - K_values))\n",
    "\n",
    "    # Use linear interpolation to estimate T\n",
    "    T1 = T_values[Kb_Ka_index, Db_Da_index]\n",
    "    T2 = T_values[Kb_Ka_index, Db_Da_index+1]\n",
    "    T3 = T_values[Kb_Ka_index+1, Db_Da_index]\n",
    "    T4 = T_values[Kb_Ka_index+1, Db_Da_index+1]\n",
    "    \n",
    "    T = (\n",
    "        T1 * (D_values[Db_Da_index+1] - Db_Da) * (K_values[Kb_Ka_index+1] - Kb_Ka) +\n",
    "        T2 * (Db_Da - D_values[Db_Da_index]) * (K_values[Kb_Ka_index+1] - Kb_Ka) +\n",
    "        T3 * (D_values[Db_Da_index+1] - Db_Da) * (Kb_Ka - K_values[Kb_Ka_index]) +\n",
    "        T4 * (Db_Da - D_values[Db_Da_index]) * (Kb_Ka - K_values[Kb_Ka_index])\n",
    "    ) / ((D_values[Db_Da_index+1] - D_values[Db_Da_index]) * (K_values[Kb_Ka_index+1] - K_values[Kb_Ka_index]))\n",
    "\n",
    "    return T\n",
    "\n",
    "# Example usage\n",
    "Db_Da = 4\n",
    "Kb_Ka = 4\n",
    "T = estimate_T(Db_Da, Kb_Ka)\n",
    "print('For Db/Da={}, Kb/Ka={}, T={}'.format(Db_Da, Kb_Ka, T))\n"
   ]
  },
  {
   "cell_type": "markdown",
   "id": "093edc63",
   "metadata": {},
   "source": [
    "## Case 4\n"
   ]
  },
  {
   "cell_type": "code",
   "execution_count": 230,
   "id": "22831825",
   "metadata": {},
   "outputs": [
    {
     "data": {
      "text/plain": [
       "(38.01779446609499, 0.0098, 0.14578485407008215, 0.5444151459299176)"
      ]
     },
     "execution_count": 230,
     "metadata": {},
     "output_type": "execute_result"
    }
   ],
   "source": [
    "h=0.7\n",
    "R = 0.007\n",
    "Dr = 1\n",
    "Da = Dr+.5*h\n",
    "Da\n",
    "Ka = 0.5\n",
    "Kb = 2\n",
    "Db = 4\n",
    "alpha = estimate_T(Db/Da, Kb/Ka)\n",
    "\n",
    "Dv = h\n",
    "r_e = .05\n",
    "ernstt(alpha, Dr, Dv, Da, Db, h, r_e, R, Ka, Kb)\n"
   ]
  },
  {
   "cell_type": "markdown",
   "id": "44c653a3",
   "metadata": {},
   "source": [
    "## Comparison of Hooghhoudt vs Ernst"
   ]
  },
  {
   "cell_type": "code",
   "execution_count": 232,
   "id": "7bfb839b",
   "metadata": {},
   "outputs": [],
   "source": [
    "R = 0.008 #m/d\n",
    "Ka = 0.4\n",
    "D = 4\n",
    "h = 0.8-0.4\n",
    "r_e = 0.1\n",
    "Kb = Ka"
   ]
  },
  {
   "cell_type": "code",
   "execution_count": 235,
   "id": "4255d6e9",
   "metadata": {},
   "outputs": [
    {
     "name": "stdout",
     "output_type": "stream",
     "text": [
      "The optimal drain spacing by Hooghhoudt is 22.05702695780132\n",
      "The optimal drain spacing by Ernstb 17.163428038838507\n",
      "The optimal drain spacing by Ernstt is 21.525701010717253\n"
     ]
    }
   ],
   "source": [
    "L_st=50\n",
    "D_e, L_calc= Hooghoudt(L_est, D, h, r_e, R, Ka, Kb)  \n",
    "print('The optimal drain spacing by Hooghhoudt is',L_calc)\n",
    "\n",
    "h =0.4\n",
    "Dr =1 #assumed\n",
    "Dv = Dr+h\n",
    "Db=D-Dr\n",
    "\n",
    "\n",
    "root1,_,_,_ = ernstb(Dv, Db, Dr, h, r_e, R, Ka, Kb)\n",
    "print('The optimal drain spacing by Ernstb',root1)\n",
    "\n",
    "\n",
    "alpha  = 1 #homogenous\n",
    "h =0.4\n",
    "Dr =1 #assumed\n",
    "Dv = 0\n",
    "Db=D-Dr\n",
    "Da=4.8-Db\n",
    "root1,_,_,_ = ernstt(alpha, Dr, Dv, Da, Db, h, r_e, R, Ka, Kb)\n",
    "print('The optimal drain spacing by Ernstt is',root1)\n"
   ]
  }
 ],
 "metadata": {
  "kernelspec": {
   "display_name": "Python 3 (ipykernel)",
   "language": "python",
   "name": "python3"
  },
  "language_info": {
   "codemirror_mode": {
    "name": "ipython",
    "version": 3
   },
   "file_extension": ".py",
   "mimetype": "text/x-python",
   "name": "python",
   "nbconvert_exporter": "python",
   "pygments_lexer": "ipython3",
   "version": "3.9.12"
  }
 },
 "nbformat": 4,
 "nbformat_minor": 5
}
