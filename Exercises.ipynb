{
 "cells": [
  {
   "cell_type": "code",
   "execution_count": null,
   "id": "2bc2c07e",
   "metadata": {},
   "outputs": [],
   "source": [
    "import math\n",
    "from scipy import optimize\n",
    "import numpy as np\n",
    "import matplotlib.pyplot as plt"
   ]
  },
  {
   "cell_type": "markdown",
   "id": "659a0b5f",
   "metadata": {},
   "source": [
    "## case 1"
   ]
  },
  {
   "cell_type": "code",
   "execution_count": null,
   "id": "2a9d0f43",
   "metadata": {},
   "outputs": [],
   "source": [
    "H = 6.8\n",
    "Ka = 0.14 #m/d\n",
    "Kb = Ka\n",
    "R = 0.001 #m/d\n",
    "h = 1 #m\n",
    "D = H-(h+1)\n",
    "r_e = 0.10 #m\n",
    "D"
   ]
  },
  {
   "cell_type": "code",
   "execution_count": null,
   "id": "6be7dce9",
   "metadata": {},
   "outputs": [],
   "source": [
    "def Hooghoudt(L_estim, D, h, r_e, R, Ka, Kb):\n",
    "    \n",
    "    # Auxiliary variable x (Van der Molen and Wesseling, 1991)\n",
    "    x = (2*math.pi*D)/L_estim  \n",
    "    \n",
    "    #print('Auxiliary variable x is ', x)\n",
    "    \n",
    "    # Calculate equivalent depth\n",
    "    D_e = (math.pi*L_estim) / ( 8 * (math.log( (L_estim)/(math.pi*r_e) ) + Vandermolen(x) ) ) \n",
    "    #print('D_e is', D_e)\n",
    "    \n",
    "    # Calculate L with Hooghoudt equation\n",
    "    L_calc = math.sqrt( ((8*Kb*D_e*h) + (4*Ka*(h**2))) / R)\n",
    "    #print('Calculated drain spacing is', L_calc )\n",
    "    print(L_estim,L_calc,D,h,r_e,x)\n",
    "    \n",
    "    return D_e, L_calc"
   ]
  },
  {
   "cell_type": "code",
   "execution_count": null,
   "id": "83a200d8",
   "metadata": {},
   "outputs": [],
   "source": [
    "\n",
    "def Vandermolen(x):\n",
    "    #Fx = None   # assign a default value of None\n",
    "    if x > 0.5:\n",
    "        Fx = 0\n",
    "        for n in range(1, 1001, 2):\n",
    "            Fx += 4 * math.exp(-2 * n * x) / (n * (1 - math.exp(-2 * n * x)))\n",
    "        print('Series')\n",
    "        #d = (math.pi * L) / (4 * Fx + math.log(x / (2 * math.pi)))\n",
    "    else:\n",
    "        Fx = (((math.pi)**2)/(4*x)) + math.log(x/(2*math.pi)) \n",
    "        print('Analytic')\n",
    "            #d = (math.pi * L) / (4 * Fx + math.log(x / (2 * math.pi)))\n",
    "    return Fx\n",
    "\n",
    " "
   ]
  },
  {
   "cell_type": "markdown",
   "id": "8801258f",
   "metadata": {},
   "source": [
    "## automatic optimization"
   ]
  },
  {
   "cell_type": "code",
   "execution_count": null,
   "id": "3dd8d2a5",
   "metadata": {},
   "outputs": [],
   "source": [
    "def obj_fun(LL,D, h, r_e, R, Ka, Kb):\n",
    "    # Calculate Hooghoudt equation and Vandemolen\n",
    "    D_e, L_calc = Hooghoudt(LL, D, h, r_e, R, Ka, Kb)\n",
    "    # Compare estimated and calculated L and minimize difference\n",
    "    resid = (LL - L_calc)\n",
    "    OF = resid**2\n",
    "    \n",
    "    return OF"
   ]
  },
  {
   "cell_type": "code",
   "execution_count": null,
   "id": "25763cd2",
   "metadata": {},
   "outputs": [],
   "source": [
    "L_est=75\n",
    "res = optimize.minimize(obj_fun, x0=L_est, args=(D, h, r_e, R, Ka, Kb,))\n",
    "print(h)\n",
    "print('The optimal drain spacing is',res.x)"
   ]
  },
  {
   "cell_type": "code",
   "execution_count": null,
   "id": "ba0929a3",
   "metadata": {},
   "outputs": [],
   "source": [
    "# Define bounds for L (optional)\n",
    "from scipy.optimize import minimize\n",
    "\n",
    "bounds = [(0, None)] # L can't be negative\n",
    "\n",
    "# Define function to be minimized\n",
    "fun = lambda L: obj_fun(L, D, h, r_e, R, Ka, Kb)\n",
    "\n",
    "# Minimize objective function\n",
    "res = minimize(fun, L_est, bounds=bounds)\n",
    "\n",
    "# Extract optimized L value\n",
    "L = res.x[0]\n",
    "L"
   ]
  },
  {
   "cell_type": "markdown",
   "id": "542f9b79",
   "metadata": {},
   "source": [
    "### manual optimization"
   ]
  },
  {
   "cell_type": "code",
   "execution_count": null,
   "id": "0fe695cb",
   "metadata": {},
   "outputs": [],
   "source": [
    "# Visualize relationship equivalent depth and drain spacing for this particular case\n",
    "D_es=[]\n",
    "LLs = np.arange(1, 200,.2)\n",
    "\n",
    "fig, ax = plt.subplots(figsize=(6, 4))\n",
    "for LL in LLs:\n",
    "    D_e, L_calc= Hooghoudt(LL, D, h, r_e, R, Ka, Kb)\n",
    "    D_es.append(D_e)\n",
    "    ax.plot(LL,D_e,'b.')\n",
    "    ax.set_xlabel('Drain spacing L (m)')\n",
    "    ax.set_ylabel('Equivalent depth $D_e$ (m)')\n",
    "    ax.grid('on')\n",
    "\n",
    "# Find the index of the closest value of L to L_est\n",
    "index = np.argmin(np.abs(LLs - L_est))\n",
    "\n",
    "# Use linear interpolation to estimate D_e for L=L_est m\n",
    "L1, L2 = LLs[index], LLs[index+1]\n",
    "D_e1, D_e2 = D_es[index], D_es[index+1]\n",
    "D_e_est = D_e1 + (L_est - L1)*(D_e2 - D_e1)/(L2 - L1)\n",
    "\n",
    "# Print the result\n",
    "print('For L='+str(L_est)+'m, D_e is approximately {:.3f}m'.format(D_e_est))    \n",
    "       \n",
    "# ax.plot(Lest, D_e_est, 'ro', markersize=10)\n",
    "# plt.show()\n",
    "D_e, L_calc= Hooghoudt(L_est, D_e_est, h, r_e, R, Ka, Kb)  \n",
    "print(D_e, L_calc)\n",
    " \n",
    "ax.plot(L_est, D_e_est, 'bs', markersize=10)    \n",
    "tolerance = .5\n",
    "diff = float('inf')\n",
    "\n",
    "while diff > tolerance:\n",
    "    # Use linear interpolation to estimate D_e for L=L_est m\n",
    "    L1, L2 = LLs[index], LLs[index+1]\n",
    "    D_e1, D_e2 = D_es[index], D_es[index+1]\n",
    "    D_e_est = D_e1 + (L_est - L1)*(D_e2 - D_e1)/(L2 - L1)\n",
    "    \n",
    "    # Calculate D_e and L_calc for the current value of Lest\n",
    "    D_e, L_calc = Hooghoudt(L_est, D_e_est, h, r_e, R, Ka, Kb)\n",
    "    \n",
    "    # Calculate the difference between Lest and L_calc\n",
    "    diff = abs(L_calc - L_est)\n",
    "    print(diff)\n",
    "    # Update Lest based on the sign of the difference\n",
    "    if L_calc > L_est:\n",
    "        L_est += 0.1\n",
    "    else:\n",
    "        L_est -= 0.1\n",
    "    #print(Lest)\n",
    "\n",
    "# Print the final result\n",
    "print('For L={:.2f}m, D_e is approximately {:.3f}m'.format(L_est, D_e))\n",
    "\n",
    "ax.plot(L_est, D_e, 'ro', markersize=10)\n",
    "plt.show()"
   ]
  },
  {
   "cell_type": "markdown",
   "id": "3a222c0a",
   "metadata": {},
   "source": [
    "## case 2"
   ]
  },
  {
   "cell_type": "markdown",
   "id": "ab9c3a45",
   "metadata": {},
   "source": [
    "the same information as case 1 except a ditch with the water depth of 2.5m, bottom width of 0.5m and side slope of 1:1\n",
    "is replaced by drainage pipe. The design water depth in the ditch is 0.5m. What will be the drain spacing?"
   ]
  },
  {
   "cell_type": "code",
   "execution_count": null,
   "id": "d2c74d5b",
   "metadata": {},
   "outputs": [],
   "source": [
    "# calculate the wet primeter \n",
    "u = 0.5+2*math.sqrt(0.5**2+0.5**2)\n",
    "r_e = u/math.pi\n",
    "r_e"
   ]
  },
  {
   "cell_type": "code",
   "execution_count": null,
   "id": "880486db",
   "metadata": {},
   "outputs": [],
   "source": [
    "\n",
    "res = optimize.minimize(obj_fun, x0=L_est, args=(D, h, r_e, R, Ka, Kb))\n",
    "#print(h)\n",
    "print('The optimal drain spacing is',res.x)"
   ]
  },
  {
   "cell_type": "markdown",
   "id": "f401cb61",
   "metadata": {},
   "source": [
    "## Case 3"
   ]
  },
  {
   "cell_type": "code",
   "execution_count": null,
   "id": "e28cc4dd",
   "metadata": {},
   "outputs": [],
   "source": [
    "H = 6.8\n",
    "Ka = 0.06 #m/d\n",
    "Kb = 0.3  #m/d\n",
    "R = 0.001 #m/d\n",
    "h = 1 #m\n",
    "D = H-(h+1)\n",
    "r_e = 0.10 #m\n",
    "L_est=75"
   ]
  },
  {
   "cell_type": "code",
   "execution_count": null,
   "id": "be195a97",
   "metadata": {},
   "outputs": [],
   "source": [
    "res = optimize.minimize(obj_fun, x0=L_est, args=(D, h, r_e, R, Ka, Kb))\n",
    "#print(h)\n",
    "print('The optimal drain spacing is',res.x)"
   ]
  },
  {
   "cell_type": "markdown",
   "id": "c9da6913",
   "metadata": {},
   "source": [
    "#### Sensitivity of spacing to Ka, Kb etc"
   ]
  },
  {
   "cell_type": "code",
   "execution_count": null,
   "id": "5b5a7ec2",
   "metadata": {},
   "outputs": [],
   "source": [
    "Kbs = np.arange(0.01,1.3,.05)\n",
    "Ls = []\n",
    "for Kb in Kas:\n",
    "    res = optimize.minimize(obj_fun, x0=L_est, args=(D, h, r_e, R, Ka, Kb))\n",
    "    #print(h)\n",
    "    #print('The optimal drain spacing is',res.x)\n",
    "    Ls.append(res.x)"
   ]
  },
  {
   "cell_type": "markdown",
   "id": "f767341b",
   "metadata": {},
   "source": [
    "## Ernst Equations"
   ]
  },
  {
   "cell_type": "code",
   "execution_count": null,
   "id": "b6eb8ff1",
   "metadata": {},
   "outputs": [],
   "source": [
    "def ernstb(Dv, Db, Dr, h, r_e, R, Ka, Kb):\n",
    "    u=math.pi * r_e\n",
    "    # Coefficients of the quadratic equation\n",
    "    a = 1 / (8 * Kb * Db)\n",
    "    b = math.log(Dr / u) / (math.pi * Kb)\n",
    "    c = (Dv / Ka) - (h / R)\n",
    "\n",
    "    # Calculate the roots of the quadratic equation\n",
    "    discriminant = b**2 - 4 * a * c\n",
    "    if discriminant < 0:\n",
    "        print(\"No real roots exist.\")\n",
    "    else:\n",
    "        root1 = (-b + math.sqrt(discriminant)) / (2 * a)\n",
    "        root2 = (-b - math.sqrt(discriminant)) / (2 * a)\n",
    "#         print(\"L1 =\", root1)\n",
    "#         print(\"L2 =\", root2)\n",
    "    return root1, root2"
   ]
  },
  {
   "cell_type": "code",
   "execution_count": 34,
   "id": "5f307bd9",
   "metadata": {},
   "outputs": [],
   "source": [
    "\n",
    "\n",
    "def ernstt(alpha, Dr, Dv, Da, Db, h, r_e, R, Ka, Kb):\n",
    "    # Coefficients of the quadratic equation\n",
    "    a = 1 / (8*((Kb * Db)+(Ka * Da)))\n",
    "    print(a,Dr)\n",
    "          \n",
    "    b = math.log((alpha * Dr) / (math.pi * r_e)) / (math.pi * Ka)\n",
    "\n",
    "    c = (Dv / Ka) - (h / R)\n",
    "    print(b)\n",
    "    # Calculate the roots of the quadratic equation\n",
    "    discriminant = b**2 - 4 * a * c\n",
    "    if discriminant < 0:\n",
    "        print(\"No real roots exist.\")\n",
    "    else:\n",
    "        root1 = (-b + math.sqrt(discriminant)) / (2 * a)\n",
    "        root2 = (-b - math.sqrt(discriminant)) / (2 * a)\n",
    "        print(\"L1 =\", root1)\n",
    "        print(\"L2 =\", root2)\n",
    "\n",
    "    \n",
    "    return root1, root2"
   ]
  },
  {
   "cell_type": "markdown",
   "id": "093edc63",
   "metadata": {},
   "source": [
    "## Case 4\n"
   ]
  },
  {
   "cell_type": "code",
   "execution_count": 35,
   "id": "22831825",
   "metadata": {},
   "outputs": [
    {
     "name": "stdout",
     "output_type": "stream",
     "text": [
      "0.01440922190201729 1\n",
      "2.0448093021671476\n",
      "L1 = 38.028764571004174\n",
      "L2 = -179.93853014140421\n"
     ]
    },
    {
     "data": {
      "text/plain": [
       "(38.028764571004174, -179.93853014140421)"
      ]
     },
     "execution_count": 35,
     "metadata": {},
     "output_type": "execute_result"
    }
   ],
   "source": [
    "h=0.7\n",
    "R = 0.007\n",
    "Dr = 1\n",
    "Da = Dr+.5*h\n",
    "Da\n",
    "alpha=3.9\n",
    "Ka = 0.5\n",
    "Kb = 2\n",
    "Db = 4\n",
    "a = 3.9\n",
    "Dv = h\n",
    "r_e = .05\n",
    "ernstt(a, Dr, Dv, Da, Db, h, r_e, R, Ka, Kb)\n"
   ]
  },
  {
   "cell_type": "markdown",
   "id": "44c653a3",
   "metadata": {},
   "source": [
    "## Comparison of Hooghhoudt vs Ernst"
   ]
  },
  {
   "cell_type": "code",
   "execution_count": null,
   "id": "7bfb839b",
   "metadata": {},
   "outputs": [],
   "source": [
    "R = 0.008 #m/d\n",
    "Ka = 0.4\n",
    "D = 4\n",
    "h = 0.8-0.4\n",
    "r_e = 0.1\n",
    "Kb = Ka"
   ]
  },
  {
   "cell_type": "code",
   "execution_count": null,
   "id": "4255d6e9",
   "metadata": {},
   "outputs": [],
   "source": []
  },
  {
   "cell_type": "code",
   "execution_count": null,
   "id": "257d43f5",
   "metadata": {},
   "outputs": [],
   "source": []
  }
 ],
 "metadata": {
  "kernelspec": {
   "display_name": "Python 3 (ipykernel)",
   "language": "python",
   "name": "python3"
  },
  "language_info": {
   "codemirror_mode": {
    "name": "ipython",
    "version": 3
   },
   "file_extension": ".py",
   "mimetype": "text/x-python",
   "name": "python",
   "nbconvert_exporter": "python",
   "pygments_lexer": "ipython3",
   "version": "3.9.12"
  }
 },
 "nbformat": 4,
 "nbformat_minor": 5
}
